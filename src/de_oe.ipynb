{
 "cells": [
  {
   "cell_type": "code",
   "execution_count": 1,
   "metadata": {},
   "outputs": [],
   "source": [
    "source(\"lib/deseq2_analysis.R\")"
   ]
  },
  {
   "cell_type": "code",
   "execution_count": 2,
   "metadata": {},
   "outputs": [
    {
     "data": {
      "text/html": [
       "<table class=\"dataframe\">\n",
       "<caption>A data.frame: 12 × 4</caption>\n",
       "<thead>\n",
       "\t<tr><th></th><th scope=col>file</th><th scope=col>group</th><th scope=col>sample_tag</th><th scope=col>biol_rep</th></tr>\n",
       "\t<tr><th></th><th scope=col>&lt;chr&gt;</th><th scope=col>&lt;fct&gt;</th><th scope=col>&lt;chr&gt;</th><th scope=col>&lt;chr&gt;</th></tr>\n",
       "</thead>\n",
       "<tbody>\n",
       "\t<tr><th scope=row>ERR_1</th><td>data/RNA-Seq/RNA-seq in OE ERRg iPSC-CM/counts/ERR-A-1_S4_L001_R1_001/quant.sf</td><td>ERR</td><td>ERR-A-1_S4_L001_R1_001</td><td>ERR-A-1</td></tr>\n",
       "\t<tr><th scope=row>ERR_2</th><td>data/RNA-Seq/RNA-seq in OE ERRg iPSC-CM/counts/ERR-A-1_S4_L002_R1_001/quant.sf</td><td>ERR</td><td>ERR-A-1_S4_L002_R1_001</td><td>ERR-A-1</td></tr>\n",
       "\t<tr><th scope=row>ERR_3</th><td>data/RNA-Seq/RNA-seq in OE ERRg iPSC-CM/counts/ERR-A-2_S5_L001_R1_001/quant.sf</td><td>ERR</td><td>ERR-A-2_S5_L001_R1_001</td><td>ERR-A-2</td></tr>\n",
       "\t<tr><th scope=row>ERR_4</th><td>data/RNA-Seq/RNA-seq in OE ERRg iPSC-CM/counts/ERR-A-2_S5_L002_R1_001/quant.sf</td><td>ERR</td><td>ERR-A-2_S5_L002_R1_001</td><td>ERR-A-2</td></tr>\n",
       "\t<tr><th scope=row>ERR_5</th><td>data/RNA-Seq/RNA-seq in OE ERRg iPSC-CM/counts/ERR-A-3_S6_L001_R1_001/quant.sf</td><td>ERR</td><td>ERR-A-3_S6_L001_R1_001</td><td>ERR-A-3</td></tr>\n",
       "\t<tr><th scope=row>ERR_6</th><td>data/RNA-Seq/RNA-seq in OE ERRg iPSC-CM/counts/ERR-A-3_S6_L002_R1_001/quant.sf</td><td>ERR</td><td>ERR-A-3_S6_L002_R1_001</td><td>ERR-A-3</td></tr>\n",
       "\t<tr><th scope=row>GFP_1</th><td>data/RNA-Seq/RNA-seq in OE ERRg iPSC-CM/counts/GFP-1_S1_L001_R1_001/quant.sf  </td><td>GFP</td><td>GFP-1_S1_L001_R1_001  </td><td>GFP-1  </td></tr>\n",
       "\t<tr><th scope=row>GFP_2</th><td>data/RNA-Seq/RNA-seq in OE ERRg iPSC-CM/counts/GFP-1_S1_L002_R1_001/quant.sf  </td><td>GFP</td><td>GFP-1_S1_L002_R1_001  </td><td>GFP-1  </td></tr>\n",
       "\t<tr><th scope=row>GFP_3</th><td>data/RNA-Seq/RNA-seq in OE ERRg iPSC-CM/counts/GFP-2_S2_L001_R1_001/quant.sf  </td><td>GFP</td><td>GFP-2_S2_L001_R1_001  </td><td>GFP-2  </td></tr>\n",
       "\t<tr><th scope=row>GFP_4</th><td>data/RNA-Seq/RNA-seq in OE ERRg iPSC-CM/counts/GFP-2_S2_L002_R1_001/quant.sf  </td><td>GFP</td><td>GFP-2_S2_L002_R1_001  </td><td>GFP-2  </td></tr>\n",
       "\t<tr><th scope=row>GFP_5</th><td>data/RNA-Seq/RNA-seq in OE ERRg iPSC-CM/counts/GFP-3_S3_L001_R1_001/quant.sf  </td><td>GFP</td><td>GFP-3_S3_L001_R1_001  </td><td>GFP-3  </td></tr>\n",
       "\t<tr><th scope=row>GFP_6</th><td>data/RNA-Seq/RNA-seq in OE ERRg iPSC-CM/counts/GFP-3_S3_L002_R1_001/quant.sf  </td><td>GFP</td><td>GFP-3_S3_L002_R1_001  </td><td>GFP-3  </td></tr>\n",
       "</tbody>\n",
       "</table>\n"
      ],
      "text/latex": [
       "A data.frame: 12 × 4\n",
       "\\begin{tabular}{r|llll}\n",
       "  & file & group & sample\\_tag & biol\\_rep\\\\\n",
       "  & <chr> & <fct> & <chr> & <chr>\\\\\n",
       "\\hline\n",
       "\tERR\\_1 & data/RNA-Seq/RNA-seq in OE ERRg iPSC-CM/counts/ERR-A-1\\_S4\\_L001\\_R1\\_001/quant.sf & ERR & ERR-A-1\\_S4\\_L001\\_R1\\_001 & ERR-A-1\\\\\n",
       "\tERR\\_2 & data/RNA-Seq/RNA-seq in OE ERRg iPSC-CM/counts/ERR-A-1\\_S4\\_L002\\_R1\\_001/quant.sf & ERR & ERR-A-1\\_S4\\_L002\\_R1\\_001 & ERR-A-1\\\\\n",
       "\tERR\\_3 & data/RNA-Seq/RNA-seq in OE ERRg iPSC-CM/counts/ERR-A-2\\_S5\\_L001\\_R1\\_001/quant.sf & ERR & ERR-A-2\\_S5\\_L001\\_R1\\_001 & ERR-A-2\\\\\n",
       "\tERR\\_4 & data/RNA-Seq/RNA-seq in OE ERRg iPSC-CM/counts/ERR-A-2\\_S5\\_L002\\_R1\\_001/quant.sf & ERR & ERR-A-2\\_S5\\_L002\\_R1\\_001 & ERR-A-2\\\\\n",
       "\tERR\\_5 & data/RNA-Seq/RNA-seq in OE ERRg iPSC-CM/counts/ERR-A-3\\_S6\\_L001\\_R1\\_001/quant.sf & ERR & ERR-A-3\\_S6\\_L001\\_R1\\_001 & ERR-A-3\\\\\n",
       "\tERR\\_6 & data/RNA-Seq/RNA-seq in OE ERRg iPSC-CM/counts/ERR-A-3\\_S6\\_L002\\_R1\\_001/quant.sf & ERR & ERR-A-3\\_S6\\_L002\\_R1\\_001 & ERR-A-3\\\\\n",
       "\tGFP\\_1 & data/RNA-Seq/RNA-seq in OE ERRg iPSC-CM/counts/GFP-1\\_S1\\_L001\\_R1\\_001/quant.sf   & GFP & GFP-1\\_S1\\_L001\\_R1\\_001   & GFP-1  \\\\\n",
       "\tGFP\\_2 & data/RNA-Seq/RNA-seq in OE ERRg iPSC-CM/counts/GFP-1\\_S1\\_L002\\_R1\\_001/quant.sf   & GFP & GFP-1\\_S1\\_L002\\_R1\\_001   & GFP-1  \\\\\n",
       "\tGFP\\_3 & data/RNA-Seq/RNA-seq in OE ERRg iPSC-CM/counts/GFP-2\\_S2\\_L001\\_R1\\_001/quant.sf   & GFP & GFP-2\\_S2\\_L001\\_R1\\_001   & GFP-2  \\\\\n",
       "\tGFP\\_4 & data/RNA-Seq/RNA-seq in OE ERRg iPSC-CM/counts/GFP-2\\_S2\\_L002\\_R1\\_001/quant.sf   & GFP & GFP-2\\_S2\\_L002\\_R1\\_001   & GFP-2  \\\\\n",
       "\tGFP\\_5 & data/RNA-Seq/RNA-seq in OE ERRg iPSC-CM/counts/GFP-3\\_S3\\_L001\\_R1\\_001/quant.sf   & GFP & GFP-3\\_S3\\_L001\\_R1\\_001   & GFP-3  \\\\\n",
       "\tGFP\\_6 & data/RNA-Seq/RNA-seq in OE ERRg iPSC-CM/counts/GFP-3\\_S3\\_L002\\_R1\\_001/quant.sf   & GFP & GFP-3\\_S3\\_L002\\_R1\\_001   & GFP-3  \\\\\n",
       "\\end{tabular}\n"
      ],
      "text/markdown": [
       "\n",
       "A data.frame: 12 × 4\n",
       "\n",
       "| <!--/--> | file &lt;chr&gt; | group &lt;fct&gt; | sample_tag &lt;chr&gt; | biol_rep &lt;chr&gt; |\n",
       "|---|---|---|---|---|\n",
       "| ERR_1 | data/RNA-Seq/RNA-seq in OE ERRg iPSC-CM/counts/ERR-A-1_S4_L001_R1_001/quant.sf | ERR | ERR-A-1_S4_L001_R1_001 | ERR-A-1 |\n",
       "| ERR_2 | data/RNA-Seq/RNA-seq in OE ERRg iPSC-CM/counts/ERR-A-1_S4_L002_R1_001/quant.sf | ERR | ERR-A-1_S4_L002_R1_001 | ERR-A-1 |\n",
       "| ERR_3 | data/RNA-Seq/RNA-seq in OE ERRg iPSC-CM/counts/ERR-A-2_S5_L001_R1_001/quant.sf | ERR | ERR-A-2_S5_L001_R1_001 | ERR-A-2 |\n",
       "| ERR_4 | data/RNA-Seq/RNA-seq in OE ERRg iPSC-CM/counts/ERR-A-2_S5_L002_R1_001/quant.sf | ERR | ERR-A-2_S5_L002_R1_001 | ERR-A-2 |\n",
       "| ERR_5 | data/RNA-Seq/RNA-seq in OE ERRg iPSC-CM/counts/ERR-A-3_S6_L001_R1_001/quant.sf | ERR | ERR-A-3_S6_L001_R1_001 | ERR-A-3 |\n",
       "| ERR_6 | data/RNA-Seq/RNA-seq in OE ERRg iPSC-CM/counts/ERR-A-3_S6_L002_R1_001/quant.sf | ERR | ERR-A-3_S6_L002_R1_001 | ERR-A-3 |\n",
       "| GFP_1 | data/RNA-Seq/RNA-seq in OE ERRg iPSC-CM/counts/GFP-1_S1_L001_R1_001/quant.sf   | GFP | GFP-1_S1_L001_R1_001   | GFP-1   |\n",
       "| GFP_2 | data/RNA-Seq/RNA-seq in OE ERRg iPSC-CM/counts/GFP-1_S1_L002_R1_001/quant.sf   | GFP | GFP-1_S1_L002_R1_001   | GFP-1   |\n",
       "| GFP_3 | data/RNA-Seq/RNA-seq in OE ERRg iPSC-CM/counts/GFP-2_S2_L001_R1_001/quant.sf   | GFP | GFP-2_S2_L001_R1_001   | GFP-2   |\n",
       "| GFP_4 | data/RNA-Seq/RNA-seq in OE ERRg iPSC-CM/counts/GFP-2_S2_L002_R1_001/quant.sf   | GFP | GFP-2_S2_L002_R1_001   | GFP-2   |\n",
       "| GFP_5 | data/RNA-Seq/RNA-seq in OE ERRg iPSC-CM/counts/GFP-3_S3_L001_R1_001/quant.sf   | GFP | GFP-3_S3_L001_R1_001   | GFP-3   |\n",
       "| GFP_6 | data/RNA-Seq/RNA-seq in OE ERRg iPSC-CM/counts/GFP-3_S3_L002_R1_001/quant.sf   | GFP | GFP-3_S3_L002_R1_001   | GFP-3   |\n",
       "\n"
      ],
      "text/plain": [
       "      file                                                                          \n",
       "ERR_1 data/RNA-Seq/RNA-seq in OE ERRg iPSC-CM/counts/ERR-A-1_S4_L001_R1_001/quant.sf\n",
       "ERR_2 data/RNA-Seq/RNA-seq in OE ERRg iPSC-CM/counts/ERR-A-1_S4_L002_R1_001/quant.sf\n",
       "ERR_3 data/RNA-Seq/RNA-seq in OE ERRg iPSC-CM/counts/ERR-A-2_S5_L001_R1_001/quant.sf\n",
       "ERR_4 data/RNA-Seq/RNA-seq in OE ERRg iPSC-CM/counts/ERR-A-2_S5_L002_R1_001/quant.sf\n",
       "ERR_5 data/RNA-Seq/RNA-seq in OE ERRg iPSC-CM/counts/ERR-A-3_S6_L001_R1_001/quant.sf\n",
       "ERR_6 data/RNA-Seq/RNA-seq in OE ERRg iPSC-CM/counts/ERR-A-3_S6_L002_R1_001/quant.sf\n",
       "GFP_1 data/RNA-Seq/RNA-seq in OE ERRg iPSC-CM/counts/GFP-1_S1_L001_R1_001/quant.sf  \n",
       "GFP_2 data/RNA-Seq/RNA-seq in OE ERRg iPSC-CM/counts/GFP-1_S1_L002_R1_001/quant.sf  \n",
       "GFP_3 data/RNA-Seq/RNA-seq in OE ERRg iPSC-CM/counts/GFP-2_S2_L001_R1_001/quant.sf  \n",
       "GFP_4 data/RNA-Seq/RNA-seq in OE ERRg iPSC-CM/counts/GFP-2_S2_L002_R1_001/quant.sf  \n",
       "GFP_5 data/RNA-Seq/RNA-seq in OE ERRg iPSC-CM/counts/GFP-3_S3_L001_R1_001/quant.sf  \n",
       "GFP_6 data/RNA-Seq/RNA-seq in OE ERRg iPSC-CM/counts/GFP-3_S3_L002_R1_001/quant.sf  \n",
       "      group sample_tag             biol_rep\n",
       "ERR_1 ERR   ERR-A-1_S4_L001_R1_001 ERR-A-1 \n",
       "ERR_2 ERR   ERR-A-1_S4_L002_R1_001 ERR-A-1 \n",
       "ERR_3 ERR   ERR-A-2_S5_L001_R1_001 ERR-A-2 \n",
       "ERR_4 ERR   ERR-A-2_S5_L002_R1_001 ERR-A-2 \n",
       "ERR_5 ERR   ERR-A-3_S6_L001_R1_001 ERR-A-3 \n",
       "ERR_6 ERR   ERR-A-3_S6_L002_R1_001 ERR-A-3 \n",
       "GFP_1 GFP   GFP-1_S1_L001_R1_001   GFP-1   \n",
       "GFP_2 GFP   GFP-1_S1_L002_R1_001   GFP-1   \n",
       "GFP_3 GFP   GFP-2_S2_L001_R1_001   GFP-2   \n",
       "GFP_4 GFP   GFP-2_S2_L002_R1_001   GFP-2   \n",
       "GFP_5 GFP   GFP-3_S3_L001_R1_001   GFP-3   \n",
       "GFP_6 GFP   GFP-3_S3_L002_R1_001   GFP-3   "
      ]
     },
     "metadata": {},
     "output_type": "display_data"
    }
   ],
   "source": [
    "gene_annotations = \"reference/Homo_sapiens.GRCh38.99.gtf\"\n",
    "counts_folder = \"data/RNA-Seq/RNA-seq in OE ERRg iPSC-CM/counts\"\n",
    "conditions = c(\"ERR\", \"GFP\")\n",
    "\n",
    "all_samples = get_samples(counts_folder, groups = conditions)\n",
    "all_samples$biol_rep = gsub(\"_.*\", \"\", all_samples$sample_tag)\n",
    "all_samples"
   ]
  },
  {
   "cell_type": "code",
   "execution_count": 3,
   "metadata": {},
   "outputs": [
    {
     "name": "stderr",
     "output_type": "stream",
     "text": [
      "reading in files with read_tsv\n",
      "\n",
      "\u001b[1mRows: \u001b[22m\u001b[34m227818\u001b[39m \u001b[1mColumns: \u001b[22m\u001b[34m2\u001b[39m\n",
      "\u001b[36m──\u001b[39m \u001b[1mColumn specification\u001b[22m \u001b[36m────────────────────────────────────────────────────────\u001b[39m\n",
      "\u001b[1mDelimiter:\u001b[22m \"\\t\"\n",
      "\u001b[31mchr\u001b[39m (2): TXNAME, GENEID\n",
      "\n",
      "\u001b[36mℹ\u001b[39m Use \u001b[30m\u001b[47m\u001b[30m\u001b[47m`spec()`\u001b[47m\u001b[30m\u001b[49m\u001b[39m to retrieve the full column specification for this data.\n",
      "\u001b[36mℹ\u001b[39m Specify the column types or set \u001b[30m\u001b[47m\u001b[30m\u001b[47m`show_col_types = FALSE`\u001b[47m\u001b[30m\u001b[49m\u001b[39m to quiet this message.\n",
      "1 \n",
      "2 \n",
      "3 \n",
      "4 \n",
      "5 \n",
      "6 \n",
      "7 \n",
      "8 \n",
      "9 \n",
      "10 \n",
      "11 \n",
      "12 \n",
      "\n",
      "\n",
      "transcripts missing from tx2gene: 18143\n",
      "\n",
      "summarizing abundance\n",
      "\n",
      "summarizing counts\n",
      "\n",
      "summarizing length\n",
      "\n",
      "using counts and average transcript lengths from tximport\n",
      "\n",
      "estimating size factors\n",
      "\n",
      "using 'avgTxLength' from assays(dds), correcting for library size\n",
      "\n",
      "estimating dispersions\n",
      "\n",
      "gene-wise dispersion estimates\n",
      "\n",
      "mean-dispersion relationship\n",
      "\n",
      "final dispersion estimates\n",
      "\n",
      "fitting model and testing\n",
      "\n"
     ]
    }
   ],
   "source": [
    "dds = import_salmon_into_dds(all_samples, get_tx2gene(gene_annotations))"
   ]
  },
  {
   "cell_type": "code",
   "execution_count": 4,
   "metadata": {},
   "outputs": [],
   "source": [
    "dds_collapsed = collapseReplicates(dds, groupby = all_samples$biol_rep, renameCols = F)\n",
    "dds_collapsed@colData$sample_tag = dds_collapsed@colData$biol_rep"
   ]
  },
  {
   "cell_type": "code",
   "execution_count": 5,
   "metadata": {},
   "outputs": [
    {
     "name": "stderr",
     "output_type": "stream",
     "text": [
      "20132/20132 genes with at least one sample having FPKM > 0\n",
      "\n",
      "using 'ashr' for LFC shrinkage. If used in published research, please cite:\n",
      "    Stephens, M. (2016) False discovery rates: a new deal. Biostatistics, 18:2.\n",
      "    https://doi.org/10.1093/biostatistics/kxw041\n",
      "\n"
     ]
    },
    {
     "name": "stdout",
     "output_type": "stream",
     "text": [
      "4890 DE genes in ERR vs. GFP \n"
     ]
    },
    {
     "name": "stderr",
     "output_type": "stream",
     "text": [
      "Warning message:\n",
      "“Removed 1 rows containing missing values (geom_point).”\n",
      "Warning message:\n",
      "“Removed 1 rows containing missing values (geom_point).”\n",
      "Control is: GFP, condition is: ERR\n",
      "\n"
     ]
    },
    {
     "name": "stdout",
     "output_type": "stream",
     "text": [
      "4890 DE genes in ERR vs. GFP \n"
     ]
    },
    {
     "name": "stderr",
     "output_type": "stream",
     "text": [
      "Warning message:\n",
      "“One or more p-values is 0. Converting to 10^-1 * current lowest non-zero p-value...”\n",
      "Warning message:\n",
      "“One or more p-values is 0. Converting to 10^-1 * current lowest non-zero p-value...”\n",
      "Warning message:\n",
      "“One or more p-values is 0. Converting to 10^-1 * current lowest non-zero p-value...”\n",
      "Warning message:\n",
      "“One or more p-values is 0. Converting to 10^-1 * current lowest non-zero p-value...”\n"
     ]
    }
   ],
   "source": [
    "result_tables = \"tables/ERRg_OE_DE.xlsx\"\n",
    "pics_prefix = \"pics/ERRg_OE_\"\n",
    "alpha = 0.05\n",
    "min_abs_logfc = log2(1.5)\n",
    "go_enrichment_cutoff = 2\n",
    "\n",
    "write_results_deseq(dds_collapsed, \"human\", list(c(\"ERR\", \"GFP\")), alpha, min_abs_logfc, go_enrichment_cutoff, pics_prefix, result_tables, \n",
    "                    \"data/gene_id_map_human.tsv\")"
   ]
  },
  {
   "cell_type": "code",
   "execution_count": null,
   "metadata": {},
   "outputs": [],
   "source": []
  }
 ],
 "metadata": {
  "kernelspec": {
   "display_name": "R",
   "language": "R",
   "name": "ir"
  },
  "language_info": {
   "codemirror_mode": "r",
   "file_extension": ".r",
   "mimetype": "text/x-r-source",
   "name": "R",
   "pygments_lexer": "r",
   "version": "4.1.2"
  }
 },
 "nbformat": 4,
 "nbformat_minor": 4
}
