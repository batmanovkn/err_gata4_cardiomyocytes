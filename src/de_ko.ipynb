{
 "cells": [
  {
   "cell_type": "code",
   "execution_count": 88,
   "metadata": {},
   "outputs": [
    {
     "name": "stdout",
     "output_type": "stream",
     "text": [
      "Removing 1 samples matching KO1-3 : KO1-3"
     ]
    },
    {
     "data": {
      "text/html": [
       "<table>\n",
       "<caption>A data.frame: 8 × 3</caption>\n",
       "<thead>\n",
       "\t<tr><th></th><th scope=col>file</th><th scope=col>group</th><th scope=col>sample_tag</th></tr>\n",
       "\t<tr><th></th><th scope=col>&lt;chr&gt;</th><th scope=col>&lt;fct&gt;</th><th scope=col>&lt;chr&gt;</th></tr>\n",
       "</thead>\n",
       "<tbody>\n",
       "\t<tr><th scope=row>KO1_1</th><td>data/RNA-Seq/ERRag_KO_hiPSC-CM/counts/KO1-1/quant.sf</td><td>KO1</td><td>KO1_1</td></tr>\n",
       "\t<tr><th scope=row>KO1_2</th><td>data/RNA-Seq/ERRag_KO_hiPSC-CM/counts/KO1-2/quant.sf</td><td>KO1</td><td>KO1_2</td></tr>\n",
       "\t<tr><th scope=row>KO6_1</th><td>data/RNA-Seq/ERRag_KO_hiPSC-CM/counts/KO6-1/quant.sf</td><td>KO6</td><td>KO6_1</td></tr>\n",
       "\t<tr><th scope=row>KO6_2</th><td>data/RNA-Seq/ERRag_KO_hiPSC-CM/counts/KO6-2/quant.sf</td><td>KO6</td><td>KO6_2</td></tr>\n",
       "\t<tr><th scope=row>KO6_3</th><td>data/RNA-Seq/ERRag_KO_hiPSC-CM/counts/KO6-3/quant.sf</td><td>KO6</td><td>KO6_3</td></tr>\n",
       "\t<tr><th scope=row>WT_1</th><td>data/RNA-Seq/ERRag_KO_hiPSC-CM/counts/WT1/quant.sf  </td><td>WT </td><td>WT_1 </td></tr>\n",
       "\t<tr><th scope=row>WT_2</th><td>data/RNA-Seq/ERRag_KO_hiPSC-CM/counts/WT2/quant.sf  </td><td>WT </td><td>WT_2 </td></tr>\n",
       "\t<tr><th scope=row>WT_3</th><td>data/RNA-Seq/ERRag_KO_hiPSC-CM/counts/WT3/quant.sf  </td><td>WT </td><td>WT_3 </td></tr>\n",
       "</tbody>\n",
       "</table>\n"
      ],
      "text/latex": [
       "A data.frame: 8 × 3\n",
       "\\begin{tabular}{r|lll}\n",
       "  & file & group & sample\\_tag\\\\\n",
       "  & <chr> & <fct> & <chr>\\\\\n",
       "\\hline\n",
       "\tKO1\\_1 & data/RNA-Seq/ERRag\\_KO\\_hiPSC-CM/counts/KO1-1/quant.sf & KO1 & KO1\\_1\\\\\n",
       "\tKO1\\_2 & data/RNA-Seq/ERRag\\_KO\\_hiPSC-CM/counts/KO1-2/quant.sf & KO1 & KO1\\_2\\\\\n",
       "\tKO6\\_1 & data/RNA-Seq/ERRag\\_KO\\_hiPSC-CM/counts/KO6-1/quant.sf & KO6 & KO6\\_1\\\\\n",
       "\tKO6\\_2 & data/RNA-Seq/ERRag\\_KO\\_hiPSC-CM/counts/KO6-2/quant.sf & KO6 & KO6\\_2\\\\\n",
       "\tKO6\\_3 & data/RNA-Seq/ERRag\\_KO\\_hiPSC-CM/counts/KO6-3/quant.sf & KO6 & KO6\\_3\\\\\n",
       "\tWT\\_1 & data/RNA-Seq/ERRag\\_KO\\_hiPSC-CM/counts/WT1/quant.sf   & WT  & WT\\_1 \\\\\n",
       "\tWT\\_2 & data/RNA-Seq/ERRag\\_KO\\_hiPSC-CM/counts/WT2/quant.sf   & WT  & WT\\_2 \\\\\n",
       "\tWT\\_3 & data/RNA-Seq/ERRag\\_KO\\_hiPSC-CM/counts/WT3/quant.sf   & WT  & WT\\_3 \\\\\n",
       "\\end{tabular}\n"
      ],
      "text/markdown": [
       "\n",
       "A data.frame: 8 × 3\n",
       "\n",
       "| <!--/--> | file &lt;chr&gt; | group &lt;fct&gt; | sample_tag &lt;chr&gt; |\n",
       "|---|---|---|---|\n",
       "| KO1_1 | data/RNA-Seq/ERRag_KO_hiPSC-CM/counts/KO1-1/quant.sf | KO1 | KO1_1 |\n",
       "| KO1_2 | data/RNA-Seq/ERRag_KO_hiPSC-CM/counts/KO1-2/quant.sf | KO1 | KO1_2 |\n",
       "| KO6_1 | data/RNA-Seq/ERRag_KO_hiPSC-CM/counts/KO6-1/quant.sf | KO6 | KO6_1 |\n",
       "| KO6_2 | data/RNA-Seq/ERRag_KO_hiPSC-CM/counts/KO6-2/quant.sf | KO6 | KO6_2 |\n",
       "| KO6_3 | data/RNA-Seq/ERRag_KO_hiPSC-CM/counts/KO6-3/quant.sf | KO6 | KO6_3 |\n",
       "| WT_1 | data/RNA-Seq/ERRag_KO_hiPSC-CM/counts/WT1/quant.sf   | WT  | WT_1  |\n",
       "| WT_2 | data/RNA-Seq/ERRag_KO_hiPSC-CM/counts/WT2/quant.sf   | WT  | WT_2  |\n",
       "| WT_3 | data/RNA-Seq/ERRag_KO_hiPSC-CM/counts/WT3/quant.sf   | WT  | WT_3  |\n",
       "\n"
      ],
      "text/plain": [
       "      file                                                 group sample_tag\n",
       "KO1_1 data/RNA-Seq/ERRag_KO_hiPSC-CM/counts/KO1-1/quant.sf KO1   KO1_1     \n",
       "KO1_2 data/RNA-Seq/ERRag_KO_hiPSC-CM/counts/KO1-2/quant.sf KO1   KO1_2     \n",
       "KO6_1 data/RNA-Seq/ERRag_KO_hiPSC-CM/counts/KO6-1/quant.sf KO6   KO6_1     \n",
       "KO6_2 data/RNA-Seq/ERRag_KO_hiPSC-CM/counts/KO6-2/quant.sf KO6   KO6_2     \n",
       "KO6_3 data/RNA-Seq/ERRag_KO_hiPSC-CM/counts/KO6-3/quant.sf KO6   KO6_3     \n",
       "WT_1  data/RNA-Seq/ERRag_KO_hiPSC-CM/counts/WT1/quant.sf   WT    WT_1      \n",
       "WT_2  data/RNA-Seq/ERRag_KO_hiPSC-CM/counts/WT2/quant.sf   WT    WT_2      \n",
       "WT_3  data/RNA-Seq/ERRag_KO_hiPSC-CM/counts/WT3/quant.sf   WT    WT_3      "
      ]
     },
     "metadata": {},
     "output_type": "display_data"
    },
    {
     "name": "stderr",
     "output_type": "stream",
     "text": [
      "reading in files with read_tsv\n",
      "\n",
      "Parsed with column specification:\n",
      "cols(\n",
      "  TXNAME = \u001b[31mcol_character()\u001b[39m,\n",
      "  GENEID = \u001b[31mcol_character()\u001b[39m\n",
      ")\n",
      "\n",
      "1 \n",
      "2 \n",
      "3 \n",
      "4 \n",
      "5 \n",
      "6 \n",
      "7 \n",
      "8 \n",
      "\n",
      "\n",
      "transcripts missing from tx2gene: 18143\n",
      "\n",
      "summarizing abundance\n",
      "\n",
      "summarizing counts\n",
      "\n",
      "summarizing length\n",
      "\n",
      "using counts and average transcript lengths from tximport\n",
      "\n",
      "estimating size factors\n",
      "\n",
      "using 'avgTxLength' from assays(dds), correcting for library size\n",
      "\n",
      "estimating dispersions\n",
      "\n",
      "gene-wise dispersion estimates\n",
      "\n",
      "mean-dispersion relationship\n",
      "\n",
      "final dispersion estimates\n",
      "\n",
      "fitting model and testing\n",
      "\n",
      "using 'apeglm' for LFC shrinkage. If used in published research, please cite:\n",
      "    Zhu, A., Ibrahim, J.G., Love, M.I. (2018) Heavy-tailed prior distributions for\n",
      "    sequence count data: removing the noise and preserving large differences.\n",
      "    Bioinformatics. https://doi.org/10.1093/bioinformatics/bty895\n",
      "\n"
     ]
    },
    {
     "name": "stdout",
     "output_type": "stream",
     "text": [
      "4038 DE genes in KO1 vs. WT \n"
     ]
    },
    {
     "name": "stderr",
     "output_type": "stream",
     "text": [
      "using 'apeglm' for LFC shrinkage. If used in published research, please cite:\n",
      "    Zhu, A., Ibrahim, J.G., Love, M.I. (2018) Heavy-tailed prior distributions for\n",
      "    sequence count data: removing the noise and preserving large differences.\n",
      "    Bioinformatics. https://doi.org/10.1093/bioinformatics/bty895\n",
      "\n"
     ]
    },
    {
     "name": "stdout",
     "output_type": "stream",
     "text": [
      "4913 DE genes in KO6 vs. WT \n"
     ]
    },
    {
     "name": "stderr",
     "output_type": "stream",
     "text": [
      "Warning message:\n",
      "“One or more P values is 0. Converting to minimum possible value...”\n"
     ]
    },
    {
     "data": {
      "text/html": [
       "<strong>pdf:</strong> 3"
      ],
      "text/latex": [
       "\\textbf{pdf:} 3"
      ],
      "text/markdown": [
       "**pdf:** 3"
      ],
      "text/plain": [
       "pdf \n",
       "  3 "
      ]
     },
     "metadata": {},
     "output_type": "display_data"
    }
   ],
   "source": [
    "source(\"lib/deseq2_analysis.R\")\n",
    "gene_annotations = \"reference/Homo_sapiens.GRCh38.99.gtf\"\n",
    "counts_folder = \"data/RNA-Seq/ERRag_KO_hiPSC-CM/counts\"\n",
    "conditions = c(\"WT\", \"KO1\", \"KO6\")\n",
    "\n",
    "samples_to_remove = \"KO1-3\"\n",
    "\n",
    "all_samples = get_samples(counts_folder, groups = conditions, samples_to_remove = samples_to_remove)\n",
    "all_samples\n",
    "\n",
    "dds = import_salmon_into_dds(all_samples, get_tx2gene(gene_annotations))\n",
    "\n",
    "result_tables = \"data/ERRag_KO_hiPSC-CM_de_result_tables.xlsx\"\n",
    "pics_prefix = \"pics/ERRag_KO_hiPSC-CM_\"\n",
    "\n",
    "alpha = 0.05\n",
    "min_abs_logfc = log2(1.5)\n",
    "go_enrichment_cutoff = 2\n",
    "\n",
    "write_results_deseq(dds, \"human\", list(c(\"KO1\", \"WT\"), c(\"KO6\", \"WT\")), alpha, min_abs_logfc, go_enrichment_cutoff, pics_prefix, result_tables,\n",
    "                    \"data/gene_id_map_human.tsv\")"
   ]
  },
  {
   "cell_type": "code",
   "execution_count": 86,
   "metadata": {},
   "outputs": [
    {
     "data": {
      "text/html": [
       "<ol class=list-inline>\n",
       "\t<li>KO1</li>\n",
       "\t<li>KO1</li>\n",
       "\t<li>KO6</li>\n",
       "\t<li>KO6</li>\n",
       "\t<li>KO6</li>\n",
       "\t<li>WT</li>\n",
       "\t<li>WT</li>\n",
       "\t<li>WT</li>\n",
       "</ol>\n",
       "\n",
       "<details>\n",
       "\t<summary style=display:list-item;cursor:pointer>\n",
       "\t\t<strong>Levels</strong>:\n",
       "\t</summary>\n",
       "\t<ol class=list-inline>\n",
       "\t\t<li>'WT'</li>\n",
       "\t\t<li>'KO1'</li>\n",
       "\t\t<li>'KO6'</li>\n",
       "\t</ol>\n",
       "</details>"
      ],
      "text/latex": [
       "\\begin{enumerate*}\n",
       "\\item KO1\n",
       "\\item KO1\n",
       "\\item KO6\n",
       "\\item KO6\n",
       "\\item KO6\n",
       "\\item WT\n",
       "\\item WT\n",
       "\\item WT\n",
       "\\end{enumerate*}\n",
       "\n",
       "\\emph{Levels}: \\begin{enumerate*}\n",
       "\\item 'WT'\n",
       "\\item 'KO1'\n",
       "\\item 'KO6'\n",
       "\\end{enumerate*}\n"
      ],
      "text/markdown": [
       "1. KO1\n",
       "2. KO1\n",
       "3. KO6\n",
       "4. KO6\n",
       "5. KO6\n",
       "6. WT\n",
       "7. WT\n",
       "8. WT\n",
       "\n",
       "\n",
       "\n",
       "**Levels**: 1. 'WT'\n",
       "2. 'KO1'\n",
       "3. 'KO6'\n",
       "\n",
       "\n"
      ],
      "text/plain": [
       "[1] KO1 KO1 KO6 KO6 KO6 WT  WT  WT \n",
       "Levels: WT KO1 KO6"
      ]
     },
     "metadata": {},
     "output_type": "display_data"
    }
   ],
   "source": [
    "dds$group"
   ]
  },
  {
   "cell_type": "code",
   "execution_count": null,
   "metadata": {},
   "outputs": [],
   "source": []
  }
 ],
 "metadata": {
  "kernelspec": {
   "display_name": "R",
   "language": "R",
   "name": "ir"
  },
  "language_info": {
   "codemirror_mode": "r",
   "file_extension": ".r",
   "mimetype": "text/x-r-source",
   "name": "R",
   "pygments_lexer": "r",
   "version": "4.1.2"
  }
 },
 "nbformat": 4,
 "nbformat_minor": 4
}
