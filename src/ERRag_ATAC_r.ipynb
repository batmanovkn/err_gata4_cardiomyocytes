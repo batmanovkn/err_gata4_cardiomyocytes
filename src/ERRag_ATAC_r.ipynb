{
 "cells": [
  {
   "cell_type": "code",
   "execution_count": 1,
   "metadata": {},
   "outputs": [],
   "source": [
    "suppressPackageStartupMessages(library(ATACseqQC))\n",
    "suppressPackageStartupMessages(library(Rsamtools))\n",
    "suppressPackageStartupMessages(library(EnsDb.Hsapiens.v86))\n",
    "suppressPackageStartupMessages(library(ChIPpeakAnno))\n",
    "suppressPackageStartupMessages(library(encodeChIPqc))\n",
    "\n",
    "source(system.file(\"extdata\", \"IGVSnapshot.R\", package = \"ATACseqQC\"))"
   ]
  },
  {
   "cell_type": "code",
   "execution_count": 2,
   "metadata": {},
   "outputs": [],
   "source": [
    "atac_folder = \"data/ATAC-Seq/hiPSCCM-ERRagKO/aligned\"\n",
    "atac_shifted_folder = file.path(atac_folder, \"shifted\")\n",
    "pics_folder = \"pics/atac/QC\"\n",
    "\n",
    "dir.create(pics_folder, showWarnings = F)\n",
    "dir.create(atac_shifted_folder, showWarnings = F)"
   ]
  },
  {
   "cell_type": "code",
   "execution_count": 3,
   "metadata": {},
   "outputs": [],
   "source": [
    "bam_file = file.path(atac_folder, \"Cont1_ATAC_v2_1.bam\")\n",
    "bam_label = \"Cont1_1\""
   ]
  },
  {
   "cell_type": "code",
   "execution_count": 28,
   "metadata": {},
   "outputs": [],
   "source": [
    "file_pbc1 = list()\n",
    "for(file in list.files(\"data/ATAC-Seq/hiPSCCM-ERRagKO/aligned/qc_tmp/\", pattern = \"bam$\", full.names = T)) {\n",
    "    file_pbc1[[file]] = PBC(file)\n",
    "}"
   ]
  },
  {
   "cell_type": "code",
   "execution_count": 35,
   "metadata": {},
   "outputs": [],
   "source": [
    "lines = NULL\n",
    "for(name in names(file_pbc1))\n",
    "    lines = c(lines, paste0(name, \"\\t\", file_pbc1[[name]]))\n",
    "\n",
    "writeLines(lines, \"data/ATAC-Seq/hiPSCCM-ERRagKO/aligned/qc_tmp/pbc1.tsv\")"
   ]
  },
  {
   "cell_type": "code",
   "execution_count": 8,
   "metadata": {},
   "outputs": [
    {
     "data": {
      "image/png": "[encoded data removed]",
      "text/plain": [
       "Plot with title \"Estimation of ATAC-seq\n",
       "library complexity\""
      ]
     },
     "metadata": {
      "image/png": {
       "height": 420,
       "width": 420
      },
      "text/plain": {
       "height": 420,
       "width": 420
      }
     },
     "output_type": "display_data"
    }
   ],
   "source": [
    "estimateLibComplexity(readsDupFreq(bam_file))"
   ]
  },
  {
   "cell_type": "code",
   "execution_count": 3,
   "metadata": {},
   "outputs": [],
   "source": [
    "for(sample in c(\"Cont\", \"KO1-\", \"KO6-\"))\n",
    "    for(rep in c(1, 2)) \n",
    "        for(trep in c(1, 2)) {\n",
    "            bam_label = paste0(sample, rep, \"_\", trep)  \n",
    "            bam_file = file.path(atac_folder, paste0(sample, rep, \"_ATAC_v2_\", trep, \".bam\"))\n",
    "            #png(file.path(pics_folder, paste0(bam_label, \"_fragment_size_distribution.png\")), width = 2000, height = 2000, res = 300)\n",
    "            pdf(file.path(pics_folder, paste0(bam_label, \"_fragment_size_distribution.pdf\")))\n",
    "            frag_size = fragSizeDist(bam_file, bam_label)\n",
    "            dev.off()\n",
    "        }"
   ]
  },
  {
   "cell_type": "code",
   "execution_count": 19,
   "metadata": {},
   "outputs": [
    {
     "data": {
      "text/html": [
       "<style>\n",
       ".list-inline {list-style: none; margin:0; padding: 0}\n",
       ".list-inline>li {display: inline-block}\n",
       ".list-inline>li:not(:last-child)::after {content: \"\\00b7\"; padding: 0 .5ex}\n",
       "</style>\n",
       "<ol class=list-inline><li>'AS'</li><li>'MD'</li><li>'XG'</li><li>'NM'</li><li>'XM'</li><li>'XN'</li><li>'XO'</li><li>'XS'</li><li>'YS'</li><li>'YT'</li></ol>\n"
      ],
      "text/latex": [
       "\\begin{enumerate*}\n",
       "\\item 'AS'\n",
       "\\item 'MD'\n",
       "\\item 'XG'\n",
       "\\item 'NM'\n",
       "\\item 'XM'\n",
       "\\item 'XN'\n",
       "\\item 'XO'\n",
       "\\item 'XS'\n",
       "\\item 'YS'\n",
       "\\item 'YT'\n",
       "\\end{enumerate*}\n"
      ],
      "text/markdown": [
       "1. 'AS'\n",
       "2. 'MD'\n",
       "3. 'XG'\n",
       "4. 'NM'\n",
       "5. 'XM'\n",
       "6. 'XN'\n",
       "7. 'XO'\n",
       "8. 'XS'\n",
       "9. 'YS'\n",
       "10. 'YT'\n",
       "\n",
       "\n"
      ],
      "text/plain": [
       " [1] \"AS\" \"MD\" \"XG\" \"NM\" \"XM\" \"XN\" \"XO\" \"XS\" \"YS\" \"YT\""
      ]
     },
     "metadata": {},
     "output_type": "display_data"
    }
   ],
   "source": [
    "possible_tag = combn(LETTERS, 2)\n",
    "possible_tag = c(paste0(possible_tag[1, ], possible_tag[2, ]),\n",
    "                 paste0(possible_tag[2, ], possible_tag[1, ]))\n",
    "\n",
    "bam_top100 = scanBam(BamFile(bam_file, yieldSize = 100), param = ScanBamParam(tag = possible_tag))[[1]]$tag\n",
    "tags = names(bam_top100)[lengths(bam_top100) == 100]\n",
    "tags"
   ]
  },
  {
   "cell_type": "code",
   "execution_count": 14,
   "metadata": {},
   "outputs": [],
   "source": [
    "txs = transcripts(EnsDb.Hsapiens.v86)"
   ]
  },
  {
   "cell_type": "code",
   "execution_count": 74,
   "metadata": {},
   "outputs": [],
   "source": [
    "gal = readBamFile(bam_file, tag=tags, asMates=F, bigFile=TRUE)"
   ]
  },
  {
   "cell_type": "code",
   "execution_count": 20,
   "metadata": {},
   "outputs": [],
   "source": [
    "gal = readBamFile(bam_file, tag=tags, asMates=F, bigFile=T)"
   ]
  },
  {
   "cell_type": "code",
   "execution_count": null,
   "metadata": {},
   "outputs": [],
   "source": [
    "tsse <- TSSEscore(gal, txs)\n",
    "summary(tsse$TSS.enrichment.score)"
   ]
  },
  {
   "cell_type": "code",
   "execution_count": null,
   "metadata": {},
   "outputs": [],
   "source": [
    "txs = txs[seqnames(txs) %in% \"chr1\"]\n",
    "genome = Hsapiens\n",
    "## split the reads into NucleosomeFree, mononucleosome, \n",
    "## dinucleosome and trinucleosome.\n",
    "## and save the binned alignments into bam files.\n",
    "objs = splitGAlignmentsByCut(gal1, txs=txs, genome=genome, outPath = outPath,\n",
    "                              conservation=phastCons100way.UCSC.hg19)"
   ]
  },
  {
   "cell_type": "code",
   "execution_count": null,
   "metadata": {},
   "outputs": [],
   "source": [
    "library(AnnotationHub)\n",
    "ah <- AnnotationHub()"
   ]
  },
  {
   "cell_type": "code",
   "execution_count": 49,
   "metadata": {},
   "outputs": [
    {
     "data": {
      "text/plain": [
       "AnnotationHub with 15126 records\n",
       "# snapshotDate(): 2019-10-29 \n",
       "# $dataprovider: Ensembl, UCSC, BioMart, ftp://ftp.ncbi.nlm.nih.gov/gene/DATA/\n",
       "# $species: Mus musculus, Sus scrofa, Oryzias latipes, Homo sapiens, Rattus ...\n",
       "# $rdataclass: TwoBitFile, GRanges, EnsDb, data.frame, OrgDb, list\n",
       "# additional mcols(): taxonomyid, genome, description,\n",
       "#   coordinate_1_based, maintainer, rdatadateadded, preparerclass, tags,\n",
       "#   rdatapath, sourceurl, sourcetype \n",
       "# retrieve records with, e.g., 'object[[\"AH5046\"]]' \n",
       "\n",
       "            title                                                              \n",
       "  AH5046  | Ensembl Genes                                                      \n",
       "  AH5160  | Ensembl Genes                                                      \n",
       "  AH5311  | Ensembl Genes                                                      \n",
       "  AH5434  | Ensembl Genes                                                      \n",
       "  AH5435  | Ensembl EST Genes                                                  \n",
       "  ...       ...                                                                \n",
       "  AH79558 | Xiphophorus_maculatus.X_maculatus-5.0-male.99.abinitio.gtf         \n",
       "  AH79559 | Xiphophorus_maculatus.X_maculatus-5.0-male.99.chr.gtf              \n",
       "  AH79560 | Xiphophorus_maculatus.X_maculatus-5.0-male.99.gtf                  \n",
       "  AH79561 | Zonotrichia_albicollis.Zonotrichia_albicollis-1.0.1.99.abinitio.gtf\n",
       "  AH79562 | Zonotrichia_albicollis.Zonotrichia_albicollis-1.0.1.99.gtf         "
      ]
     },
     "metadata": {},
     "output_type": "display_data"
    }
   ],
   "source": [
    "grs <- query(ah, c(\"ensembl\"))\n",
    "grs"
   ]
  },
  {
   "cell_type": "code",
   "execution_count": 45,
   "metadata": {},
   "outputs": [
    {
     "data": {
      "text/html": [
       "'ftp://ftp.ebi.ac.uk/pub/databases/gencode/Gencode_human/release_32/gencode.v32.annotation.gtf.gz'"
      ],
      "text/latex": [
       "'ftp://ftp.ebi.ac.uk/pub/databases/gencode/Gencode\\_human/release\\_32/gencode.v32.annotation.gtf.gz'"
      ],
      "text/markdown": [
       "'ftp://ftp.ebi.ac.uk/pub/databases/gencode/Gencode_human/release_32/gencode.v32.annotation.gtf.gz'"
      ],
      "text/plain": [
       "[1] \"ftp://ftp.ebi.ac.uk/pub/databases/gencode/Gencode_human/release_32/gencode.v32.annotation.gtf.gz\""
      ]
     },
     "metadata": {},
     "output_type": "display_data"
    }
   ],
   "source": [
    "ah[\"AH75192\"]$sourceurl"
   ]
  },
  {
   "cell_type": "code",
   "execution_count": 54,
   "metadata": {},
   "outputs": [
    {
     "data": {
      "text/html": [
       "'UCSC'"
      ],
      "text/latex": [
       "'UCSC'"
      ],
      "text/markdown": [
       "'UCSC'"
      ],
      "text/plain": [
       "[1] \"UCSC\""
      ]
     },
     "metadata": {},
     "output_type": "display_data"
    }
   ],
   "source": [
    "seqlevelsStyle(TxDb.Hsapiens.UCSC.hg38.knownGene)"
   ]
  },
  {
   "cell_type": "code",
   "execution_count": 66,
   "metadata": {},
   "outputs": [
    {
     "data": {
      "text/html": [
       "'Ensembl'"
      ],
      "text/latex": [
       "'Ensembl'"
      ],
      "text/markdown": [
       "'Ensembl'"
      ],
      "text/plain": [
       "[1] \"Ensembl\""
      ]
     },
     "metadata": {},
     "output_type": "display_data"
    }
   ],
   "source": [
    "seqlevelsStyle(EnsDb.Hsapiens.v86)"
   ]
  },
  {
   "cell_type": "code",
   "execution_count": null,
   "metadata": {},
   "outputs": [],
   "source": []
  }
 ],
 "metadata": {
  "kernelspec": {
   "display_name": "R",
   "language": "R",
   "name": "ir"
  },
  "language_info": {
   "codemirror_mode": "r",
   "file_extension": ".r",
   "mimetype": "text/x-r-source",
   "name": "R",
   "pygments_lexer": "r",
   "version": "4.1.2"
  }
 },
 "nbformat": 4,
 "nbformat_minor": 4
}
